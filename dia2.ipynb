{
 "cells": [
  {
   "cell_type": "code",
   "execution_count": 36,
   "id": "e3d60566",
   "metadata": {},
   "outputs": [
    {
     "name": "stdout",
     "output_type": "stream",
     "text": [
      "Directo a la bodega viejo!\n"
     ]
    }
   ],
   "source": [
    "#desafio1\n",
    "edad = int (input(\"Me indica su edad\"))\n",
    "if edad < 18: \n",
    "    print(\"Pascua joven directo!\")\n",
    "elif edad <= 20:\n",
    "    print(\"Podes tomar pero no comprar\")\n",
    "else:\n",
    "    print(\"Directo a la bodega viejo!\")\n"
   ]
  },
  {
   "cell_type": "code",
   "execution_count": 63,
   "id": "fada39d4",
   "metadata": {},
   "outputs": [
    {
     "name": "stdout",
     "output_type": "stream",
     "text": [
      "La temperatura actual es de 55 grados celsius.\n",
      "directo al cielo\n"
     ]
    }
   ],
   "source": [
    "#Desafio2\n",
    "temperatura = int(input(\"Me podrias indicar la temperatura\"))\n",
    "print(f\"La temperatura actual es de {temperatura} grados celsius.\")\n",
    "if temperatura >= -10 and temperatura <= 18:\n",
    "    print(\"fresquito\")\n",
    "elif temperatura >= 19 and temperatura <= 30:\n",
    "    print(\"calor\")\n",
    "elif temperatura >= 31 and temperatura <= 45:\n",
    "    print(\"hakurooo\")\n",
    "elif temperatura >= -9999999 and temperatura <= -12:\n",
    "    print(\"ya nos congelamos \")\n",
    "else:\n",
    "    print(\"directo al cielo\")"
   ]
  },
  {
   "cell_type": "code",
   "execution_count": 8,
   "id": "a78608ac",
   "metadata": {},
   "outputs": [
    {
     "name": "stdout",
     "output_type": "stream",
     "text": [
      "20\n",
      "Al fin!!\n"
     ]
    }
   ],
   "source": [
    "#Desafio3\n",
    "contraseña_correcta = 20\n",
    "contraseña = 6\n",
    "while contraseña != contraseña_correcta:\n",
    "    contraseña = int (input(\"Favor intruce la contraseña\"))\n",
    "    print(contraseña)\n",
    "\n",
    "print(\"Al fin!!\")"
   ]
  },
  {
   "cell_type": "code",
   "execution_count": 22,
   "id": "34ecaba7",
   "metadata": {},
   "outputs": [
    {
     "name": "stdout",
     "output_type": "stream",
     "text": [
      "['pan', 'leche', 'queso', 'huevo', 'acituna']\n",
      "['pan', 'leche', 'queso', 'huevo', 'acituna', 'ajo']\n",
      "['pan', 'sandia', 'queso', 'huevo', 'acituna', 'ajo']\n",
      "['pan', 'sandia', 'huevo', 'acituna', 'ajo']\n"
     ]
    }
   ],
   "source": [
    "#Desafio4\n",
    "lista_de_super = [\"pan\",\"leche\",\"queso\",\"huevo\",\"acituna\"]\n",
    "print(lista_de_super)\n",
    "lista_de_super.append(\"ajo\")\n",
    "print(lista_de_super)\n",
    "\n",
    "lista_de_super[1]=\"sandia\"\n",
    "print(lista_de_super)\n",
    "\n",
    "lista_de_super.remove(\"queso\")\n",
    "print(lista_de_super)"
   ]
  },
  {
   "cell_type": "code",
   "execution_count": null,
   "id": "b1e29dbb",
   "metadata": {},
   "outputs": [
    {
     "name": "stdout",
     "output_type": "stream",
     "text": [
      "['pan', 'leche', 'queso', 'huevo', 'acituna']\n",
      "['pan', 'leche', 'queso', 'huevo', 'acituna', 'ajo']\n",
      "['pan', 'sandia', 'queso', 'huevo', 'acituna', 'ajo']\n",
      "['pan', 'sandia', 'huevo', 'acituna', 'ajo']\n"
     ]
    }
   ],
   "source": [
    "#Desafio4\n",
    "lista_de_super = [\"pan\",\"leche\",\"queso\",\"huevo\",\"acituna\"]\n",
    "print(lista_de_super)\n",
    "lista_de_super.append(\"ajo\")\n",
    "print(lista_de_super)\n",
    "\n",
    "lista_de_super[1]=\"sandia\"\n",
    "print(lista_de_super)\n",
    "\n",
    "lista_de_super.pop(2)\n",
    "print(lista_de_super)"
   ]
  },
  {
   "cell_type": "code",
   "execution_count": 25,
   "id": "754e5fc5",
   "metadata": {},
   "outputs": [
    {
     "name": "stdout",
     "output_type": "stream",
     "text": [
      "['pan', 'sandia', 'huevo', 'acituna', 'ajo']\n"
     ]
    }
   ],
   "source": [
    "lista_de_super = [\"pan\",\"leche\",\"queso\",\"huevo\",\"acituna\"]\n",
    "\n",
    "lista_de_super.append(\"ajo\")\n",
    "\n",
    "lista_de_super[1]=\"sandia\"\n",
    "\n",
    "lista_de_super.pop(2)\n",
    "print(lista_de_super)"
   ]
  },
  {
   "cell_type": "code",
   "execution_count": 33,
   "id": "488f050c",
   "metadata": {},
   "outputs": [
    {
     "name": "stdout",
     "output_type": "stream",
     "text": [
      "0\n",
      "2\n",
      "4\n",
      "6\n",
      "8\n",
      "10\n",
      "12\n",
      "14\n",
      "16\n",
      "18\n"
     ]
    }
   ],
   "source": [
    "#Desafio5\n",
    "for elemento in range(10):\n",
    "    print(elemento*2)"
   ]
  },
  {
   "cell_type": "code",
   "execution_count": 35,
   "id": "c1568267",
   "metadata": {},
   "outputs": [
    {
     "name": "stdout",
     "output_type": "stream",
     "text": [
      "adidas\n",
      "new balance\n",
      "balenciaga\n"
     ]
    }
   ],
   "source": [
    "#desafio6\n",
    "marca = [\"nike\",\"adidas\",\"new balance\",\"balenciaga\",\"puma\"]\n",
    "for marcas in marca:\n",
    "    if len(marcas) >= 6:\n",
    "        print(marcas)"
   ]
  },
  {
   "cell_type": "code",
   "execution_count": 60,
   "id": "78eb690d",
   "metadata": {},
   "outputs": [
    {
     "name": "stdout",
     "output_type": "stream",
     "text": [
      "Aqui nos tiraron una o\n"
     ]
    }
   ],
   "source": [
    "#desafio7\n",
    "texto = input(\"Me dices la mejor frase\")\n",
    "for letra in texto:\n",
    "    if (letra) == \"o\":\n",
    "        print(\"Aqui nos tiraron una o\")"
   ]
  }
 ],
 "metadata": {
  "kernelspec": {
   "display_name": "Python 3",
   "language": "python",
   "name": "python3"
  },
  "language_info": {
   "codemirror_mode": {
    "name": "ipython",
    "version": 3
   },
   "file_extension": ".py",
   "mimetype": "text/x-python",
   "name": "python",
   "nbconvert_exporter": "python",
   "pygments_lexer": "ipython3",
   "version": "3.13.3"
  }
 },
 "nbformat": 4,
 "nbformat_minor": 5
}
