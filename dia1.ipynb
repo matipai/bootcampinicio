{
 "cells": [
  {
   "cell_type": "code",
   "execution_count": 10,
   "id": "0f46f5a1",
   "metadata": {},
   "outputs": [
    {
     "name": "stdout",
     "output_type": "stream",
     "text": [
      "Hola mundo\n"
     ]
    }
   ],
   "source": [
    "print(\"Hola mundo\")"
   ]
  },
  {
   "cell_type": "code",
   "execution_count": 11,
   "id": "b301814a",
   "metadata": {},
   "outputs": [
    {
     "name": "stdout",
     "output_type": "stream",
     "text": [
      "31\n"
     ]
    }
   ],
   "source": [
    "#suma\n",
    "cantidad_de_manzanas = 20\n",
    "cantidad_de_naranjas = 11\n",
    "cantidad_de_frutas = cantidad_de_manzanas + cantidad_de_naranjas\n",
    "print(cantidad_de_frutas)"
   ]
  },
  {
   "cell_type": "code",
   "execution_count": 12,
   "id": "44b242ce",
   "metadata": {},
   "outputs": [
    {
     "name": "stdout",
     "output_type": "stream",
     "text": [
      "11\n"
     ]
    }
   ],
   "source": [
    "#resta\n",
    "cantidad_de_frutas = 20\n",
    "cantidad_de_frutas_vendidas = 9\n",
    "frutas_restantes = cantidad_de_frutas - cantidad_de_frutas_vendidas\n",
    "print(frutas_restantes)\n"
   ]
  },
  {
   "cell_type": "code",
   "execution_count": 36,
   "id": "89719362",
   "metadata": {},
   "outputs": [
    {
     "name": "stdout",
     "output_type": "stream",
     "text": [
      "Hola, me llamo Franco Pertile. Mucho gusto.\n"
     ]
    }
   ],
   "source": [
    "#desafio 2\n",
    "nombre = \"Franco\" \n",
    "apellido = \"Pertile\"\n",
    "print(f\"Hola, me llamo {nombre} {apellido}. Mucho gusto.\")\n",
    "    "
   ]
  },
  {
   "cell_type": "code",
   "execution_count": 34,
   "id": "1ae4bf70",
   "metadata": {},
   "outputs": [
    {
     "name": "stdout",
     "output_type": "stream",
     "text": [
      "Hola. me llamo Franco Pertile mucho gusto.\n"
     ]
    }
   ],
   "source": [
    "#desafio 2\n",
    "nombre = \"Franco\" \n",
    "apellido = \"Pertile\"\n",
    "print(\"Hola. me llamo\"+\" \"+nombre+\" \"+apellido+\" \"+\"mucho gusto\"\".\")"
   ]
  },
  {
   "cell_type": "code",
   "execution_count": 44,
   "id": "62f87e6b",
   "metadata": {},
   "outputs": [
    {
     "name": "stdout",
     "output_type": "stream",
     "text": [
      "747\n"
     ]
    }
   ],
   "source": [
    "# #Desafio 3\n",
    "numero1 = input(\"dame un numero para sumar\")\n",
    "numero2 = input(\"ahora dame otro\")\n",
    "suma = int(numero1)+ int(numero2)\n",
    "print(suma)"
   ]
  },
  {
   "cell_type": "code",
   "execution_count": null,
   "id": "25011801",
   "metadata": {},
   "outputs": [
    {
     "name": "stdout",
     "output_type": "stream",
     "text": [
      "250\n"
     ]
    }
   ],
   "source": [
    "#desafio3\n",
    "numero1 = int(input(\"dame un numero para sumar\"))\n",
    "numero2 = int(input(\"ahora dame otro\"))\n",
    "suma = numero1 + numero2\n",
    "print(suma)"
   ]
  },
  {
   "cell_type": "code",
   "execution_count": 55,
   "id": "40c7c830",
   "metadata": {},
   "outputs": [
    {
     "name": "stdout",
     "output_type": "stream",
     "text": [
      "Levantarse de la cama\n",
      "Manifestar lo deseado\n",
      "Cepillarse los dientes\n",
      "Desayunar full hd\n",
      "Salir a conquistar el mundo\n",
      "Caer al curso de penguin\n",
      "fin\n",
      "Levantarse de la cama\n",
      "Manifestar lo deseado\n",
      "Cepillarse los dientes\n",
      "Desayunar full hd\n",
      "Salir a conquistar el mundo\n",
      "Caer al curso de penguin\n",
      "fin\n",
      "Levantarse de la cama\n",
      "Manifestar lo deseado\n",
      "Cepillarse los dientes\n",
      "Desayunar full hd\n",
      "Salir a conquistar el mundo\n",
      "Caer al curso de penguin\n",
      "fin\n"
     ]
    }
   ],
   "source": [
    "#desafio 4\n",
    "def pasos_cotidianos():\n",
    "    print(\"Levantarse de la cama\")\n",
    "    print(\"Manifestar lo deseado\")\n",
    "    print(\"Cepillarse los dientes\")\n",
    "    print(\"Desayunar full hd\")\n",
    "    print(\"Salir a conquistar el mundo\")\n",
    "    print(\"Caer al curso de penguin\")\n",
    "    print(\"fin\")\n",
    "\n",
    "pasos_cotidianos()\n",
    "pasos_cotidianos()\n",
    "pasos_cotidianos()"
   ]
  },
  {
   "cell_type": "code",
   "execution_count": 60,
   "id": "62d034d6",
   "metadata": {},
   "outputs": [
    {
     "name": "stdout",
     "output_type": "stream",
     "text": [
      "Pantalla: 15\n",
      "Teclado: Español\n",
      "Memoria de: 8gb\n"
     ]
    }
   ],
   "source": [
    "#Desafio 5\n",
    "def comprar_una_notebook(caracteristicas):\n",
    "    print(\"Pantalla: 15\")\n",
    "    print(\"Teclado: Español\")\n",
    "    print(F\"Memoria de: {caracteristicas}\")\n",
    "comprar_una_notebook(\"8gb\")"
   ]
  },
  {
   "cell_type": "code",
   "execution_count": 66,
   "id": "0c13d490",
   "metadata": {},
   "outputs": [
    {
     "name": "stdout",
     "output_type": "stream",
     "text": [
      "Mega compu gamer\n",
      "Pantalla: 18\n",
      "Teclado: Español\n",
      "memoria de: 8gb\n",
      "sistema operativo :macOS\n"
     ]
    }
   ],
   "source": [
    "def comprar_una_notebook(ram, sis , pulgada):\n",
    "    print(\"Mega compu gamer\")\n",
    "    print(f\"Pantalla: {pulgada}\")\n",
    "    print(\"Teclado: Español\")\n",
    "    print(F\"memoria de: {ram}\")\n",
    "    print(F\"sistema operativo :{sis}\")\n",
    "\n",
    "comprar_una_notebook(\"8gb\",\"macOS\",\"18\")\n"
   ]
  }
 ],
 "metadata": {
  "kernelspec": {
   "display_name": "Python 3",
   "language": "python",
   "name": "python3"
  },
  "language_info": {
   "codemirror_mode": {
    "name": "ipython",
    "version": 3
   },
   "file_extension": ".py",
   "mimetype": "text/x-python",
   "name": "python",
   "nbconvert_exporter": "python",
   "pygments_lexer": "ipython3",
   "version": "3.13.3"
  }
 },
 "nbformat": 4,
 "nbformat_minor": 5
}
