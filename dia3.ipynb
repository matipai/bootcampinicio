{
 "cells": [
  {
   "cell_type": "code",
   "execution_count": 93,
   "id": "68f822bf",
   "metadata": {},
   "outputs": [
    {
     "name": "stdout",
     "output_type": "stream",
     "text": [
      "hola gente!\n"
     ]
    }
   ],
   "source": [
    "#desafio1\n",
    "def palabra():\n",
    "    print(\"hola gente!\")\n",
    "palabra()\n"
   ]
  },
  {
   "cell_type": "code",
   "execution_count": 94,
   "id": "ae7e5827",
   "metadata": {},
   "outputs": [
    {
     "name": "stdout",
     "output_type": "stream",
     "text": [
      "buenos dias mi gente\n"
     ]
    }
   ],
   "source": [
    "#desafio1\n",
    "def saludo():\n",
    "    palabra = \"mi gente\"\n",
    "    print (f\"buenos dias {palabra}\")\n",
    "\n",
    "saludo()"
   ]
  },
  {
   "cell_type": "code",
   "execution_count": 95,
   "id": "3b4f6b53",
   "metadata": {},
   "outputs": [],
   "source": [
    "#desafio2\n",
    "#Crear una función que reciba dos letras (parámetros) y que verifique si son iguales:\n",
    "#Si son iguales, imprimir \"Las letras son iguales\".\n",
    "#De lo contrario, imprimir \"Las letras son diferentes\".\n",
    " "
   ]
  },
  {
   "cell_type": "code",
   "execution_count": 96,
   "id": "fa9a99b6",
   "metadata": {},
   "outputs": [
    {
     "name": "stdout",
     "output_type": "stream",
     "text": [
      "hay dos iguales\n"
     ]
    }
   ],
   "source": [
    "def letras (letra1,letra2):\n",
    "    if letra1 == letra2:\n",
    "        print (\"hay dos iguales\")\n",
    "    else:\n",
    "        print (\"no hay ninguna\")\n",
    "\n",
    "letras(\"ab\",\"ab\")"
   ]
  },
  {
   "cell_type": "markdown",
   "id": "cfc9de38",
   "metadata": {},
   "source": [
    "Crear una función que reciba dos parámetros (una palabra y un número), y que retorne True si el número es igual a la cantidad de letras de la palabra. En caso contrario, que retorne False.\n",
    "\n",
    "Pista: cantidad de letras de una palabra en python"
   ]
  },
  {
   "cell_type": "code",
   "execution_count": 97,
   "id": "784489f3",
   "metadata": {},
   "outputs": [
    {
     "data": {
      "text/plain": [
       "False"
      ]
     },
     "execution_count": 97,
     "metadata": {},
     "output_type": "execute_result"
    }
   ],
   "source": [
    "#desafio3\n",
    "def comparacion (letra , numero ):\n",
    "    if len (letra) == numero:\n",
    "        return (True)\n",
    "    else:\n",
    "        return(False)\n",
    "\n",
    "comparacion(\"hola\",5)\n"
   ]
  },
  {
   "cell_type": "code",
   "execution_count": 98,
   "id": "7af35ca3",
   "metadata": {},
   "outputs": [
    {
     "ename": "ValueError",
     "evalue": "invalid literal for int() with base 10: 'jollll'",
     "output_type": "error",
     "traceback": [
      "\u001b[31m---------------------------------------------------------------------------\u001b[39m",
      "\u001b[31mValueError\u001b[39m                                Traceback (most recent call last)",
      "\u001b[36mCell\u001b[39m\u001b[36m \u001b[39m\u001b[32mIn[98]\u001b[39m\u001b[32m, line 8\u001b[39m\n\u001b[32m      5\u001b[39m         \u001b[38;5;28;01mreturn\u001b[39;00m (\u001b[38;5;28;01mFalse\u001b[39;00m)\n\u001b[32m      7\u001b[39m letra = \u001b[38;5;28minput\u001b[39m(\u001b[33m\"\u001b[39m\u001b[33mingresar palabra\u001b[39m\u001b[33m\"\u001b[39m)\n\u001b[32m----> \u001b[39m\u001b[32m8\u001b[39m numero = \u001b[38;5;28;43mint\u001b[39;49m\u001b[43m \u001b[49m\u001b[43m(\u001b[49m\u001b[38;5;28;43minput\u001b[39;49m\u001b[43m(\u001b[49m\u001b[33;43m\"\u001b[39;49m\u001b[33;43mingresar numero\u001b[39;49m\u001b[33;43m\"\u001b[39;49m\u001b[43m)\u001b[49m\u001b[43m)\u001b[49m\n\u001b[32m      9\u001b[39m comparacion(letra ,numero)\n",
      "\u001b[31mValueError\u001b[39m: invalid literal for int() with base 10: 'jollll'"
     ]
    }
   ],
   "source": [
    "def comparacion (letra , numero ):\n",
    "    if len (letra) == numero:\n",
    "        return (True)\n",
    "    else:\n",
    "        return (False)\n",
    "\n",
    "letra = input(\"ingresar palabra\")\n",
    "numero = int (input(\"ingresar numero\"))\n",
    "comparacion(letra ,numero)"
   ]
  },
  {
   "cell_type": "code",
   "execution_count": null,
   "id": "054571aa",
   "metadata": {},
   "outputs": [
    {
     "name": "stdout",
     "output_type": "stream",
     "text": [
      "['h', 'o', 'l', 'a']\n",
      "['h', 'o', 'l', 'a']\n",
      "['h', 'o', 'l', 'a']\n"
     ]
    }
   ],
   "source": [
    "for repeticion in range(3):\n",
    "    palabra_usuario = input(\"ingrese una palabra\")\n",
    "    palabra_ingresada = list(palabra_usuario)\n",
    "    print(palabra_ingresada)"
   ]
  },
  {
   "cell_type": "markdown",
   "id": "266744c1",
   "metadata": {},
   "source": [
    "#desafio6\n",
    "Dada la lista de ejemplo: \n",
    "\n",
    "lista = [['h', 'o', 'l', 'i', 's'], ['h', 'e', 'l', 'l', 'o'], ['h', 'a', 'l', 'l', 'o']]\n",
    "\n",
    "Crear una función que imprima una grilla (lista de listas), una línea por cada lista dentro de la lista principal.\n",
    "\n",
    "Ejemplo del resultado esperado:\n",
    "\n",
    "['h', 'o', 'l', 'i', 's']\n",
    "['h', 'e', 'l', 'l', 'o']\n",
    "['h', 'a', 'l', 'l', 'o']"
   ]
  },
  {
   "cell_type": "code",
   "execution_count": null,
   "id": "dd958b32",
   "metadata": {},
   "outputs": [
    {
     "name": "stdout",
     "output_type": "stream",
     "text": [
      "['h', 'o', 'l', 'a']\n",
      "['h', 'o', 'l', 'i', 's']\n",
      "['c', 'h', 'a', 'u']\n"
     ]
    }
   ],
   "source": [
    "#manera incorrecta \n",
    "lista = []\n",
    "for repeticion in range(3):\n",
    "    palabra_usuario = input(\"ingrese una palabra\")\n",
    "    palabra_ingresada = list(palabra_usuario)\n",
    "    lista = palabra_ingresada\n",
    "    print(lista)"
   ]
  },
  {
   "cell_type": "code",
   "execution_count": null,
   "id": "4696075c",
   "metadata": {},
   "outputs": [],
   "source": []
  },
  {
   "cell_type": "code",
   "execution_count": null,
   "id": "a9d8c046",
   "metadata": {},
   "outputs": [
    {
     "name": "stdout",
     "output_type": "stream",
     "text": [
      "['h', 'o', 'l', 'i', 's']\n",
      "['h', 'e', 'l', 'l', 'o']\n",
      "['h', 'a', 'l', 'l', 'o']\n"
     ]
    }
   ],
   "source": [
    "#manera correcta \n",
    "lista = [['h', 'o', 'l', 'i', 's'], ['h', 'e', 'l', 'l', 'o'], ['h', 'a', 'l', 'l', 'o']]\n",
    "for lista in lista:\n",
    "    print (lista)"
   ]
  },
  {
   "cell_type": "code",
   "execution_count": null,
   "id": "5f7b24d7",
   "metadata": {},
   "outputs": [],
   "source": [
    "\n",
    "palabra_a_encontrar = \"sandia\"\n",
    "cantidad_de_letras = 6\n",
    "intentos = 5\n",
    "\n",
    "usuario = input(\"Dime una palabra\")\n",
    "\n",
    "def verificar(palabra_a_encontrar, usuario):\n",
    "    letras_correctas = []\n",
    "\n",
    "    for posicion in range (cantidad_de_letras):\n",
    "        letras_iguales = palabra_a_encontrar[posicion] == usuario[posicion]\n",
    "        palabra_existente = usuario[posicion] in palabra_a_encontrar\n",
    "    "
   ]
  },
  {
   "cell_type": "code",
   "execution_count": 103,
   "id": "be8d5bf6",
   "metadata": {},
   "outputs": [
    {
     "name": "stdout",
     "output_type": "stream",
     "text": [
      "Empezá a jugar y divertite!!\n",
      "te quedan 5 intentos\n",
      "te quedaste sin intentos\n"
     ]
    }
   ],
   "source": [
    "mensaje_bienvenida = \"Empezá a jugar y divertite!!\"\n",
    "print(mensaje_bienvenida)\n",
    "palabra_ingresada = input(\"ingresar palabra\")\n",
    "\n",
    "palabra_a_encontrar = \"letras\"\n",
    "cantidad_de_letras = 6\n",
    "cantidad_de_intentos= 5\n",
    "letras_verificadas = []\n",
    "\n",
    "def verificar_la_palabra(palabra_a_encontrar,palabra_ingresada):\n",
    "\n",
    "\n",
    "    if len(palabra_ingresada) != cantidad_de_letras:\n",
    "        print(\"La palabra debe tener\", cantidad_de_letras, \"letras\")\n",
    "    else:\n",
    "        for posicion in range(cantidad_de_letras):\n",
    "            letras_iguales = palabra_a_encontrar[posicion] == palabra_ingresada[posicion]\n",
    "            palabra_existente = palabra_ingresada[posicion] in palabra_a_encontrar\n",
    "\n",
    "            if letras_iguales:\n",
    "                letras_verificadas.append(\"[\" + palabra_ingresada[posicion] + \"]\")\n",
    "            elif palabra_existente:\n",
    "                letras_verificadas.append(\"(\" + palabra_ingresada[posicion] + \")\")\n",
    "            else:\n",
    "                letras_verificadas.append(palabra_ingresada[posicion])\n",
    "               \n",
    "    return verificar_la_palabra\n",
    "\n",
    "verificar = verificar_la_palabra(palabra_a_encontrar, palabra_ingresada)\n",
    "\n",
    "while cantidad_de_intentos >0 :\n",
    "    print(f\"te quedan {cantidad_de_intentos} intentos\")\n",
    "    palabra_ingresada = input(\"ingresa otra palabra\")\n",
    "    cantidad_de_intentos = -1\n",
    "\n",
    "print(\"te quedaste sin intentos\")"
   ]
  }
 ],
 "metadata": {
  "kernelspec": {
   "display_name": "Python 3",
   "language": "python",
   "name": "python3"
  },
  "language_info": {
   "codemirror_mode": {
    "name": "ipython",
    "version": 3
   },
   "file_extension": ".py",
   "mimetype": "text/x-python",
   "name": "python",
   "nbconvert_exporter": "python",
   "pygments_lexer": "ipython3",
   "version": "3.13.3"
  }
 },
 "nbformat": 4,
 "nbformat_minor": 5
}
